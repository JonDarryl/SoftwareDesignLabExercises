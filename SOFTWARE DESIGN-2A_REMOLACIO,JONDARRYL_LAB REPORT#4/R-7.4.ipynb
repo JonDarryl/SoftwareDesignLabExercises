{
 "cells": [
  {
   "cell_type": "code",
   "execution_count": 3,
   "metadata": {},
   "outputs": [],
   "source": [
    "def reverse(S, start, stop):\n",
    "    if start < stop-1:\n",
    "        S[start], S[stop-1] = S[stop-1], S[start]\n",
    "        reverse(S, start+1, stop-1)"
   ]
  },
  {
   "cell_type": "code",
   "execution_count": null,
   "metadata": {},
   "outputs": [],
   "source": [
    "\"\"\"\n",
    "calling reverse on S = [4, 3, 6, 2, 6] (reverse(S, 0, 4) provides:\n",
    "\n",
    "reverse(S, 0, 5)   return None (S is [6, 2, 6, 3, 4] at the return)\n",
    "    produces [6, 3, 6, 2, 4]\n",
    "    recurse(S, 1, 4)    return None (S is [6, 2, 6, 3, 4] at the return)\n",
    "        produces [6, 2, 6, 3, 4]\n",
    "        recurses(S, 2, 3)     return None  (S is [6, 2, 6, 3, 4])\n",
    "            \n",
    "After everything, S is now (S is [6, 2, 6, 3, 4]).  Note that this function changes the original array\n",
    "Note that in this recursion, the swaps happen before the next recursion is called, and the return is none\n",
    "\"\"\""
   ]
  },
  {
   "cell_type": "code",
   "execution_count": 5,
   "metadata": {},
   "outputs": [
    {
     "name": "stdout",
     "output_type": "stream",
     "text": [
      "[6, 2, 6, 3, 4]\n"
     ]
    }
   ],
   "source": [
    "S = [4, 3, 6, 2, 6]\n",
    "reverse(S, 0, 5)\n",
    "print(S)"
   ]
  }
 ],
 "metadata": {
  "interpreter": {
   "hash": "8e284ee3255a07ad8bf76694974743c4c81cb57e7c969474d752d949b11d721e"
  },
  "kernelspec": {
   "display_name": "Python 3.9.13 64-bit",
   "language": "python",
   "name": "python3"
  },
  "language_info": {
   "codemirror_mode": {
    "name": "ipython",
    "version": 3
   },
   "file_extension": ".py",
   "mimetype": "text/x-python",
   "name": "python",
   "nbconvert_exporter": "python",
   "pygments_lexer": "ipython3",
   "version": "3.9.13"
  },
  "orig_nbformat": 4
 },
 "nbformat": 4,
 "nbformat_minor": 2
}
