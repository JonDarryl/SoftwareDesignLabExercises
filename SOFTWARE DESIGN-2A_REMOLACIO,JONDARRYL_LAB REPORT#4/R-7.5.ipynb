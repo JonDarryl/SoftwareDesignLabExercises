{
 "cells": [
  {
   "cell_type": "code",
   "execution_count": 1,
   "metadata": {},
   "outputs": [],
   "source": [
    "def solves(S):\n",
    "    #Note, this is a random solution to the pseudoproblem\n",
    "    return S == ['d','b','c']\n",
    "\n",
    "\n",
    "def PuzzleSolver(k, S, U):\n",
    "    for e in sorted(U).copy():\n",
    "        S.append(e)\n",
    "        U.remove(e)\n",
    "        if k==1:\n",
    "            print(S)\n",
    "            if solves(S):\n",
    "                print( f'Solution found: {S}')\n",
    "        else:\n",
    "            PuzzleSolver(k-1, S, U)\n",
    "        U.add(S.pop())  #removes the last item of an array"
   ]
  },
  {
   "cell_type": "code",
   "execution_count": null,
   "metadata": {},
   "outputs": [],
   "source": [
    "\"\"\"\n",
    "Note: It would be very difficult to draw the entire recursive trace so I'm outputting the order of the calls\n",
    "Also note: a set is unordered, so the order in which you would get these outputs is not guaranteed.\n",
    "I have ordered the set for this example\n",
    "PuzzleSolver(3, [], {'a','b','c','d'})\n",
    "    PuzzleSolver(2, [a], {'b','c','d'})\n",
    "        PuzzleSolver(1, ['a','b'], {'c','d'})\n",
    "            Tests ['a','b','c'] and ['a', 'b', 'd'] and returns None\n",
    "        PuzzleSolver(1, ['a','c'], {'b','d'})\n",
    "            Tests ['a', 'c', 'b'] and ['a','c','d'] then returns None    \n",
    "        .....       \n",
    "    PuzzleSolver(2, [b], {'a','c','d'})\n",
    "        ....\n",
    "        \n",
    "    PuzzleSolver(2, [c], {'a','b','d'})\n",
    "        ...\n",
    "    PuzzleSolver(2, [d], {'a','b','c'})\n",
    "        ...    \n",
    "        PuzzleSolver(1, ['d','c'], {'a','b'})\n",
    "            Tests ['d', 'c', 'a'] and ['d','c','b'] then returns None        \n",
    "\"\"\""
   ]
  },
  {
   "cell_type": "code",
   "execution_count": 3,
   "metadata": {},
   "outputs": [
    {
     "name": "stdout",
     "output_type": "stream",
     "text": [
      "['a', 'b', 'c']\n",
      "['a', 'b', 'd']\n",
      "['a', 'c', 'b']\n",
      "['a', 'c', 'd']\n",
      "['a', 'd', 'b']\n",
      "['a', 'd', 'c']\n",
      "['b', 'a', 'c']\n",
      "['b', 'a', 'd']\n",
      "['b', 'c', 'a']\n",
      "['b', 'c', 'd']\n",
      "['b', 'd', 'a']\n",
      "['b', 'd', 'c']\n",
      "['c', 'a', 'b']\n",
      "['c', 'a', 'd']\n",
      "['c', 'b', 'a']\n",
      "['c', 'b', 'd']\n",
      "['c', 'd', 'a']\n",
      "['c', 'd', 'b']\n",
      "['d', 'a', 'b']\n",
      "['d', 'a', 'c']\n",
      "['d', 'b', 'a']\n",
      "['d', 'b', 'c']\n",
      "Solution found: ['d', 'b', 'c']\n",
      "['d', 'c', 'a']\n",
      "['d', 'c', 'b']\n"
     ]
    }
   ],
   "source": [
    "PuzzleSolver(3, [], {'a','b','c','d'})"
   ]
  }
 ],
 "metadata": {
  "interpreter": {
   "hash": "8e284ee3255a07ad8bf76694974743c4c81cb57e7c969474d752d949b11d721e"
  },
  "kernelspec": {
   "display_name": "Python 3.9.13 64-bit",
   "language": "python",
   "name": "python3"
  },
  "language_info": {
   "codemirror_mode": {
    "name": "ipython",
    "version": 3
   },
   "file_extension": ".py",
   "mimetype": "text/x-python",
   "name": "python",
   "nbconvert_exporter": "python",
   "pygments_lexer": "ipython3",
   "version": "3.9.13"
  },
  "orig_nbformat": 4
 },
 "nbformat": 4,
 "nbformat_minor": 2
}
